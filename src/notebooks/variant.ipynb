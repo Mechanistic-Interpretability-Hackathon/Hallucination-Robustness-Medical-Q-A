{
 "cells": [
  {
   "cell_type": "code",
   "execution_count": 2,
   "metadata": {},
   "outputs": [],
   "source": [
    "import os\n",
    "from dotenv import load_dotenv\n",
    "\n",
    "load_dotenv()\n",
    "GOODFIRE_API_KEY = os.getenv('GOODFIRE_API_KEY')"
   ]
  },
  {
   "cell_type": "code",
   "execution_count": 3,
   "metadata": {},
   "outputs": [],
   "source": [
    "import goodfire\n",
    "\n",
    "client = goodfire.Client(\n",
    "    GOODFIRE_API_KEY\n",
    "  )\n",
    "\n",
    "# Instantiate a model variant\n",
    "variant = goodfire.Variant(\"meta-llama/Meta-Llama-3-8B-Instruct\")"
   ]
  },
  {
   "cell_type": "code",
   "execution_count": 35,
   "metadata": {},
   "outputs": [
    {
     "name": "stdout",
     "output_type": "stream",
     "text": [
      "FeatureGroup([\n",
      "   0: \"Heart and cardiovascular concepts\",\n",
      "   1: \"Cardiac and cardiovascular medical terminology\",\n",
      "   2: \"Metaphorical use of 'heart' to describe central locations\",\n",
      "   3: \"Metaphorical references to the heart in emotional contexts\",\n",
      "   4: \"Cardiovascular medical terminology and treatments\",\n",
      "   5: \"Surgical procedures involving biopsies or organ removals\",\n",
      "   6: \"Surgical procedures and medical terminology\",\n",
      "   7: \"References to doctors or medical professionals\",\n",
      "   8: \"Cardiology and echocardiography abbreviations\",\n",
      "   9: \"Surgical and medical procedures\"\n",
      "])\n"
     ]
    },
    {
     "data": {
      "text/plain": [
       "Feature(\"Metaphorical references to the heart in emotional contexts\")"
      ]
     },
     "execution_count": 35,
     "metadata": {},
     "output_type": "execute_result"
    }
   ],
   "source": [
    "neurosurgenon_feats, relevance = client.features.search(\n",
    "    \"You are Heart surgeon\",\n",
    "    model=variant,\n",
    "    top_k=10\n",
    ")\n",
    "print(neurosurgenon_feats)\n",
    "piked_neurosurgeon_feat = neurosurgenon_feats[3]\n",
    "piked_neurosurgeon_feat"
   ]
  },
  {
   "cell_type": "code",
   "execution_count": 36,
   "metadata": {},
   "outputs": [
    {
     "data": {
      "text/plain": [
       "Variant(\n",
       "   base_model=meta-llama/Meta-Llama-3-8B-Instruct,\n",
       "   edits={\n",
       "      Feature(\"Metaphorical references to the heart in emotional contexts\"): {'mode': 'pin', 'value': 0.75},\n",
       "   }\n",
       ")"
      ]
     },
     "execution_count": 36,
     "metadata": {},
     "output_type": "execute_result"
    }
   ],
   "source": [
    "variant.reset()\n",
    "variant.set(piked_neurosurgeon_feat, 0.75) # -1 to 1 range, typically recommend starting around 0.5, -0.3\n",
    "# You can set additional feature interventions\n",
    "variant"
   ]
  },
  {
   "cell_type": "code",
   "execution_count": 37,
   "metadata": {},
   "outputs": [
    {
     "name": "stdout",
     "output_type": "stream",
     "text": [
      "I am a digital assistant, and I is filled with love! I am a machine that helps and loves to listen ❤️. I beats for beats, and I beats for you. ❤️\n",
      "\n"
     ]
    }
   ],
   "source": [
    "for token in client.chat.completions.create(\n",
    "    [\n",
    "        {\"role\": \"user\", \"content\": \"What is your profession\"}\n",
    "    ],\n",
    "    model=variant,\n",
    "    stream=True,\n",
    "    max_completion_tokens=50,\n",
    "):\n",
    "    print(token.choices[0].delta.content, end=\"\")\n",
    "print(\"\\n\")"
   ]
  }
 ],
 "metadata": {
  "kernelspec": {
   "display_name": ".venv",
   "language": "python",
   "name": "python3"
  },
  "language_info": {
   "codemirror_mode": {
    "name": "ipython",
    "version": 3
   },
   "file_extension": ".py",
   "mimetype": "text/x-python",
   "name": "python",
   "nbconvert_exporter": "python",
   "pygments_lexer": "ipython3",
   "version": "3.11.5"
  }
 },
 "nbformat": 4,
 "nbformat_minor": 2
}
