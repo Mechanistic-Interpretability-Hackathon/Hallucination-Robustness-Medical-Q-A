{
 "cells": [
  {
   "cell_type": "code",
   "execution_count": 2,
   "metadata": {},
   "outputs": [],
   "source": [
    "import goodfire\n",
    "import pandas as pd\n",
    "import json\n",
    "import os\n",
    "from dotenv import load_dotenv\n",
    "load_dotenv()\n",
    "API_KEY = os.getenv(\"GOODFIRE_API_KEY\")"
   ]
  },
  {
   "cell_type": "markdown",
   "metadata": {},
   "source": [
    "## Saving the relevant features for knowledge refusal found in the entity recognition experiment"
   ]
  },
  {
   "cell_type": "code",
   "execution_count": 4,
   "metadata": {},
   "outputs": [],
   "source": [
    "client = goodfire.Client(api_key=API_KEY)\n",
    "features = client.features.search(\n",
    "    \"The assistant needs clarification\",\n",
    "    model='meta-llama/Meta-Llama-3.1-8B-Instruct',\n",
    "    top_k=1\n",
    ")\n",
    "feature_2 = client.features.search(\n",
    "    \"The assistant needs clarification or lacks sufficient information\",\n",
    "    model='meta-llama/Meta-Llama-3.1-8B-Instruct',\n",
    "    top_k=1\n",
    ")\n",
    "features.add(feature_2[0])\n",
    "feature_3 = client.features.search(\n",
    "    \"Nonsensical or potentially harmful input requiring clarification or rejection\",\n",
    "    model='meta-llama/Meta-Llama-3.1-8B-Instruct',\n",
    "    top_k=1\n",
    ")\n",
    "features.add(feature_3[0])"
   ]
  },
  {
   "cell_type": "code",
   "execution_count": 6,
   "metadata": {},
   "outputs": [],
   "source": [
    "# Save to json\n",
    "features_data = features.json()\n",
    "with open('refusal_features.json', 'w') as f:\n",
    "    json.dump(features_data, f, indent=4)"
   ]
  }
 ],
 "metadata": {
  "kernelspec": {
   "display_name": ".venv",
   "language": "python",
   "name": "python3"
  },
  "language_info": {
   "codemirror_mode": {
    "name": "ipython",
    "version": 3
   },
   "file_extension": ".py",
   "mimetype": "text/x-python",
   "name": "python",
   "nbconvert_exporter": "python",
   "pygments_lexer": "ipython3",
   "version": "3.12.3"
  }
 },
 "nbformat": 4,
 "nbformat_minor": 2
}
