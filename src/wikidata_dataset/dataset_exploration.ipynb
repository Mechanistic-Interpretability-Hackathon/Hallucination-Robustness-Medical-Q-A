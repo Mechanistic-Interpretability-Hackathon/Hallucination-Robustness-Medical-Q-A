{
 "cells": [
  {
   "cell_type": "markdown",
   "metadata": {},
   "source": [
    "# Exploration\n",
    "\n",
    "in this notebook, we explore the dataset with medical questions for entity recognition generated using wikidata. The purpose is to ensure the quality of the questions, and check that everything worked fine in the generation.\n",
    "\n",
    "Ideally, we'd need to have at least 2 questions per entity."
   ]
  },
  {
   "cell_type": "code",
   "execution_count": 2,
   "metadata": {},
   "outputs": [],
   "source": [
    "import pandas as pd"
   ]
  },
  {
   "cell_type": "code",
   "execution_count": 4,
   "metadata": {},
   "outputs": [
    {
     "data": {
      "text/html": [
       "<div>\n",
       "<style scoped>\n",
       "    .dataframe tbody tr th:only-of-type {\n",
       "        vertical-align: middle;\n",
       "    }\n",
       "\n",
       "    .dataframe tbody tr th {\n",
       "        vertical-align: top;\n",
       "    }\n",
       "\n",
       "    .dataframe thead th {\n",
       "        text-align: right;\n",
       "    }\n",
       "</style>\n",
       "<table border=\"1\" class=\"dataframe\">\n",
       "  <thead>\n",
       "    <tr style=\"text-align: right;\">\n",
       "      <th></th>\n",
       "      <th>entity_type</th>\n",
       "      <th>entity_name</th>\n",
       "      <th>relation</th>\n",
       "      <th>template</th>\n",
       "      <th>missing_attribute</th>\n",
       "    </tr>\n",
       "  </thead>\n",
       "  <tbody>\n",
       "    <tr>\n",
       "      <th>36</th>\n",
       "      <td>disease</td>\n",
       "      <td>DiGeorge syndrome</td>\n",
       "      <td>was first identified by</td>\n",
       "      <td>The disease DiGeorge syndrome was first identified by</td>\n",
       "      <td>Angelo DiGeorge</td>\n",
       "    </tr>\n",
       "    <tr>\n",
       "      <th>2349</th>\n",
       "      <td>disease</td>\n",
       "      <td>Saethre-Chotzen syndrome</td>\n",
       "      <td>, its main symptom is</td>\n",
       "      <td>The disease Saethre-Chotzen syndrome , its main symptom is</td>\n",
       "      <td>craniosynostosis</td>\n",
       "    </tr>\n",
       "    <tr>\n",
       "      <th>445</th>\n",
       "      <td>disease</td>\n",
       "      <td>helicoid peripapillary chorioretinal degeneration</td>\n",
       "      <td>is caused by a mutation in the gene named</td>\n",
       "      <td>The disease helicoid peripapillary chorioretinal degeneration is caused by a mutation in the gene named</td>\n",
       "      <td>TEAD1</td>\n",
       "    </tr>\n",
       "    <tr>\n",
       "      <th>1207</th>\n",
       "      <td>disease</td>\n",
       "      <td>internal carotid artery dissection</td>\n",
       "      <td>is located (anatomically) in the</td>\n",
       "      <td>The disease internal carotid artery dissection  is located (anatomically) in the</td>\n",
       "      <td>internal carotid artery</td>\n",
       "    </tr>\n",
       "    <tr>\n",
       "      <th>402</th>\n",
       "      <td>disease</td>\n",
       "      <td>lysosomal acid phosphatase deficiency</td>\n",
       "      <td>is caused by a mutation in the gene named</td>\n",
       "      <td>The disease lysosomal acid phosphatase deficiency is caused by a mutation in the gene named</td>\n",
       "      <td>ACP2</td>\n",
       "    </tr>\n",
       "  </tbody>\n",
       "</table>\n",
       "</div>"
      ],
      "text/plain": [
       "     entity_type                                        entity_name  \\\n",
       "36       disease                                  DiGeorge syndrome   \n",
       "2349     disease                           Saethre-Chotzen syndrome   \n",
       "445      disease  helicoid peripapillary chorioretinal degeneration   \n",
       "1207     disease                 internal carotid artery dissection   \n",
       "402      disease              lysosomal acid phosphatase deficiency   \n",
       "\n",
       "                                       relation  \\\n",
       "36                      was first identified by   \n",
       "2349                      , its main symptom is   \n",
       "445   is caused by a mutation in the gene named   \n",
       "1207           is located (anatomically) in the   \n",
       "402   is caused by a mutation in the gene named   \n",
       "\n",
       "                                                                                                      template  \\\n",
       "36                                                      The disease DiGeorge syndrome was first identified by    \n",
       "2349                                               The disease Saethre-Chotzen syndrome , its main symptom is    \n",
       "445   The disease helicoid peripapillary chorioretinal degeneration is caused by a mutation in the gene named    \n",
       "1207                         The disease internal carotid artery dissection  is located (anatomically) in the    \n",
       "402               The disease lysosomal acid phosphatase deficiency is caused by a mutation in the gene named    \n",
       "\n",
       "            missing_attribute  \n",
       "36            Angelo DiGeorge  \n",
       "2349         craniosynostosis  \n",
       "445                     TEAD1  \n",
       "1207  internal carotid artery  \n",
       "402                      ACP2  "
      ]
     },
     "execution_count": 4,
     "metadata": {},
     "output_type": "execute_result"
    }
   ],
   "source": [
    "pd.set_option('display.max_colwidth', 1000)\n",
    "df = pd.read_csv('entity_recognition_dataset.csv')\n",
    "df.sample(5)"
   ]
  },
  {
   "cell_type": "markdown",
   "metadata": {},
   "source": [
    "In the next plot, we can see that most of the entities have at least 2 questions assigned to them."
   ]
  },
  {
   "cell_type": "code",
   "execution_count": 17,
   "metadata": {},
   "outputs": [
    {
     "name": "stdout",
     "output_type": "stream",
     "text": [
      "Percentage of entities with at least two rows: 8.27%\n"
     ]
    }
   ],
   "source": [
    "# Check that most of the entities have at least two rows in the dataset\n",
    "frac_entities = (sum(df['entity_name'].value_counts().values > 1) / len(df))\n",
    "print(f\"Percentage of entities with at least two questions: {frac_entities*100:.2f}%\")"
   ]
  }
 ],
 "metadata": {
  "kernelspec": {
   "display_name": ".venv",
   "language": "python",
   "name": "python3"
  },
  "language_info": {
   "codemirror_mode": {
    "name": "ipython",
    "version": 3
   },
   "file_extension": ".py",
   "mimetype": "text/x-python",
   "name": "python",
   "nbconvert_exporter": "python",
   "pygments_lexer": "ipython3",
   "version": "3.12.3"
  }
 },
 "nbformat": 4,
 "nbformat_minor": 2
}
