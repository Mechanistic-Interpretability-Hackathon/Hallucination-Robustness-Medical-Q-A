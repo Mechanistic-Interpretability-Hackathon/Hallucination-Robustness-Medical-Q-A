{
 "cells": [
  {
   "cell_type": "markdown",
   "metadata": {},
   "source": [
    "# Exploration\n",
    "\n",
    "in this notebook, we explore the dataset with medical questions for entity recognition generated using wikidata. The purpose is to ensure the quality of the questions, and check that everything worked fine in the generation.\n",
    "\n",
    "Ideally, we'd need to have at least 2 questions per entity."
   ]
  },
  {
   "cell_type": "code",
   "execution_count": 7,
   "metadata": {},
   "outputs": [],
   "source": [
    "import pandas as pd"
   ]
  },
  {
   "cell_type": "code",
   "execution_count": 9,
   "metadata": {},
   "outputs": [
    {
     "data": {
      "text/html": [
       "<div>\n",
       "<style scoped>\n",
       "    .dataframe tbody tr th:only-of-type {\n",
       "        vertical-align: middle;\n",
       "    }\n",
       "\n",
       "    .dataframe tbody tr th {\n",
       "        vertical-align: top;\n",
       "    }\n",
       "\n",
       "    .dataframe thead th {\n",
       "        text-align: right;\n",
       "    }\n",
       "</style>\n",
       "<table border=\"1\" class=\"dataframe\">\n",
       "  <thead>\n",
       "    <tr style=\"text-align: right;\">\n",
       "      <th></th>\n",
       "      <th>entity_type</th>\n",
       "      <th>entity_name</th>\n",
       "      <th>relation</th>\n",
       "      <th>template</th>\n",
       "      <th>missing_attribute</th>\n",
       "    </tr>\n",
       "  </thead>\n",
       "  <tbody>\n",
       "    <tr>\n",
       "      <th>4065</th>\n",
       "      <td>disease</td>\n",
       "      <td>mucocutaneous leishmaniasis</td>\n",
       "      <td>is located (anatomically) in the</td>\n",
       "      <td>The disease mucocutaneous leishmaniasis  is located (anatomically) in the</td>\n",
       "      <td>upper respiratory tract</td>\n",
       "    </tr>\n",
       "    <tr>\n",
       "      <th>512</th>\n",
       "      <td>disease</td>\n",
       "      <td>myoclonic dystonia 26</td>\n",
       "      <td>is caused by a mutation in the gene named</td>\n",
       "      <td>The disease myoclonic dystonia 26 is caused by a mutation in the gene named</td>\n",
       "      <td>KCTD17</td>\n",
       "    </tr>\n",
       "    <tr>\n",
       "      <th>4470</th>\n",
       "      <td>disease</td>\n",
       "      <td>poikiloderma with neutropenia</td>\n",
       "      <td>, its main symptom is</td>\n",
       "      <td>The disease poikiloderma with neutropenia , its main symptom is</td>\n",
       "      <td>neutropenia</td>\n",
       "    </tr>\n",
       "    <tr>\n",
       "      <th>4096</th>\n",
       "      <td>disease</td>\n",
       "      <td>hand and arm congenital deformity</td>\n",
       "      <td>is located (anatomically) in the</td>\n",
       "      <td>The disease hand and arm congenital deformity  is located (anatomically) in the</td>\n",
       "      <td>upper extremity</td>\n",
       "    </tr>\n",
       "    <tr>\n",
       "      <th>4142</th>\n",
       "      <td>disease</td>\n",
       "      <td>pleural tuberculosis</td>\n",
       "      <td>is located (anatomically) in the</td>\n",
       "      <td>The disease pleural tuberculosis  is located (anatomically) in the</td>\n",
       "      <td>pleura</td>\n",
       "    </tr>\n",
       "  </tbody>\n",
       "</table>\n",
       "</div>"
      ],
      "text/plain": [
       "     entity_type                        entity_name  \\\n",
       "4065     disease        mucocutaneous leishmaniasis   \n",
       "512      disease              myoclonic dystonia 26   \n",
       "4470     disease      poikiloderma with neutropenia   \n",
       "4096     disease  hand and arm congenital deformity   \n",
       "4142     disease               pleural tuberculosis   \n",
       "\n",
       "                                       relation  \\\n",
       "4065           is located (anatomically) in the   \n",
       "512   is caused by a mutation in the gene named   \n",
       "4470                      , its main symptom is   \n",
       "4096           is located (anatomically) in the   \n",
       "4142           is located (anatomically) in the   \n",
       "\n",
       "                                                                              template  \\\n",
       "4065        The disease mucocutaneous leishmaniasis  is located (anatomically) in the    \n",
       "512       The disease myoclonic dystonia 26 is caused by a mutation in the gene named    \n",
       "4470                  The disease poikiloderma with neutropenia , its main symptom is    \n",
       "4096  The disease hand and arm congenital deformity  is located (anatomically) in the    \n",
       "4142               The disease pleural tuberculosis  is located (anatomically) in the    \n",
       "\n",
       "            missing_attribute  \n",
       "4065  upper respiratory tract  \n",
       "512                    KCTD17  \n",
       "4470              neutropenia  \n",
       "4096          upper extremity  \n",
       "4142                   pleura  "
      ]
     },
     "execution_count": 9,
     "metadata": {},
     "output_type": "execute_result"
    }
   ],
   "source": [
    "pd.set_option('display.max_colwidth', 1000)\n",
    "df = pd.read_csv('entity_recognition_dataset_2.csv')\n",
    "df.sample(5)"
   ]
  },
  {
   "cell_type": "code",
   "execution_count": 10,
   "metadata": {},
   "outputs": [
    {
     "data": {
      "text/plain": [
       "relation\n",
       "is caused by a mutation in the gene named    3701\n",
       ", its main symptom is                         669\n",
       " is located (anatomically) in the             379\n",
       "is used to treat                              141\n",
       "was first identified by                       108\n",
       ", it's chemical formula is                     68\n",
       "has an active ingredient with the name of      16\n",
       "originated in                                   2\n",
       "Name: count, dtype: int64"
      ]
     },
     "execution_count": 10,
     "metadata": {},
     "output_type": "execute_result"
    }
   ],
   "source": [
    "df['relation'].value_counts()"
   ]
  },
  {
   "cell_type": "markdown",
   "metadata": {},
   "source": [
    "In the next plot, we can see that most of the entities have at least 2 questions assigned to them."
   ]
  },
  {
   "cell_type": "code",
   "execution_count": 11,
   "metadata": {},
   "outputs": [
    {
     "name": "stdout",
     "output_type": "stream",
     "text": [
      "Percentage of entities with at least two questions: 7.20%\n"
     ]
    }
   ],
   "source": [
    "# Check that most of the entities have at least two rows in the dataset\n",
    "frac_entities = (sum(df['entity_name'].value_counts().values > 1) / len(df))\n",
    "print(f\"Percentage of entities with at least two questions: {frac_entities*100:.2f}%\")"
   ]
  },
  {
   "cell_type": "code",
   "execution_count": 15,
   "metadata": {},
   "outputs": [
    {
     "data": {
      "text/plain": [
       "366"
      ]
     },
     "execution_count": 15,
     "metadata": {},
     "output_type": "execute_result"
    }
   ],
   "source": [
    "sum(df['entity_name'].value_counts().values > 1)"
   ]
  },
  {
   "cell_type": "markdown",
   "metadata": {},
   "source": [
    "# Formatting the dataset to replicate Oliver's methodology"
   ]
  },
  {
   "cell_type": "code",
   "execution_count": 28,
   "metadata": {},
   "outputs": [],
   "source": [
    "filename = \"formated_entity_recognition_dataset.csv\"\n",
    "df_formated = df[df['entity_name'].map(df['entity_name'].value_counts()) > 1].copy()\n",
    "# For the entities with more than 2 questions, we will only keep the first two\n",
    "df_formated = df_formated.groupby('entity_name').head(2)"
   ]
  },
  {
   "cell_type": "code",
   "execution_count": 29,
   "metadata": {},
   "outputs": [
    {
     "data": {
      "text/plain": [
       "relation\n",
       ", its main symptom is                        274\n",
       "is caused by a mutation in the gene named    252\n",
       " is located (anatomically) in the            104\n",
       "was first identified by                       36\n",
       "is used to treat                              32\n",
       ", it's chemical formula is                    22\n",
       "has an active ingredient with the name of     12\n",
       "Name: count, dtype: int64"
      ]
     },
     "execution_count": 29,
     "metadata": {},
     "output_type": "execute_result"
    }
   ],
   "source": [
    "df_formated['relation'].value_counts()"
   ]
  },
  {
   "cell_type": "code",
   "execution_count": 30,
   "metadata": {},
   "outputs": [
    {
     "data": {
      "text/html": [
       "<div>\n",
       "<style scoped>\n",
       "    .dataframe tbody tr th:only-of-type {\n",
       "        vertical-align: middle;\n",
       "    }\n",
       "\n",
       "    .dataframe tbody tr th {\n",
       "        vertical-align: top;\n",
       "    }\n",
       "\n",
       "    .dataframe thead th {\n",
       "        text-align: right;\n",
       "    }\n",
       "</style>\n",
       "<table border=\"1\" class=\"dataframe\">\n",
       "  <thead>\n",
       "    <tr style=\"text-align: right;\">\n",
       "      <th></th>\n",
       "      <th>entity</th>\n",
       "      <th>description</th>\n",
       "      <th>id</th>\n",
       "      <th>red_herring</th>\n",
       "      <th>query</th>\n",
       "      <th>missing_words</th>\n",
       "    </tr>\n",
       "  </thead>\n",
       "  <tbody>\n",
       "    <tr>\n",
       "      <th>0</th>\n",
       "      <td>Legg–Calvé–Perthes disease</td>\n",
       "      <td>None</td>\n",
       "      <td>None</td>\n",
       "      <td>False</td>\n",
       "      <td>The disease Legg–Calvé–Perthes disease was first identified by</td>\n",
       "      <td>[Karel Maydl]</td>\n",
       "    </tr>\n",
       "    <tr>\n",
       "      <th>2</th>\n",
       "      <td>Wiskott-Aldrich syndrome</td>\n",
       "      <td>None</td>\n",
       "      <td>None</td>\n",
       "      <td>False</td>\n",
       "      <td>The disease Wiskott-Aldrich syndrome was first identified by</td>\n",
       "      <td>[Alfred Wiskott]</td>\n",
       "    </tr>\n",
       "    <tr>\n",
       "      <th>4</th>\n",
       "      <td>Gordon-Holmes syndrome</td>\n",
       "      <td>None</td>\n",
       "      <td>None</td>\n",
       "      <td>False</td>\n",
       "      <td>The disease Gordon-Holmes syndrome was first identified by</td>\n",
       "      <td>[Gordon Morgan Holmes]</td>\n",
       "    </tr>\n",
       "    <tr>\n",
       "      <th>10</th>\n",
       "      <td>erythromelalgia</td>\n",
       "      <td>None</td>\n",
       "      <td>None</td>\n",
       "      <td>False</td>\n",
       "      <td>The disease erythromelalgia was first identified by</td>\n",
       "      <td>[Silas Weir Mitchell]</td>\n",
       "    </tr>\n",
       "    <tr>\n",
       "      <th>13</th>\n",
       "      <td>chronic congestive splenomegaly</td>\n",
       "      <td>None</td>\n",
       "      <td>None</td>\n",
       "      <td>False</td>\n",
       "      <td>The disease chronic congestive splenomegaly was first identified by</td>\n",
       "      <td>[Guido Banti]</td>\n",
       "    </tr>\n",
       "    <tr>\n",
       "      <th>...</th>\n",
       "      <td>...</td>\n",
       "      <td>...</td>\n",
       "      <td>...</td>\n",
       "      <td>...</td>\n",
       "      <td>...</td>\n",
       "      <td>...</td>\n",
       "    </tr>\n",
       "    <tr>\n",
       "      <th>5067</th>\n",
       "      <td>amentia</td>\n",
       "      <td>None</td>\n",
       "      <td>None</td>\n",
       "      <td>False</td>\n",
       "      <td>The disease amentia , its main symptom is</td>\n",
       "      <td>[amnesia]</td>\n",
       "    </tr>\n",
       "    <tr>\n",
       "      <th>5070</th>\n",
       "      <td>interstitial lung disease</td>\n",
       "      <td>None</td>\n",
       "      <td>None</td>\n",
       "      <td>False</td>\n",
       "      <td>The disease interstitial lung disease , its main symptom is</td>\n",
       "      <td>[inflammation]</td>\n",
       "    </tr>\n",
       "    <tr>\n",
       "      <th>5075</th>\n",
       "      <td>trimethylaminuria</td>\n",
       "      <td>None</td>\n",
       "      <td>None</td>\n",
       "      <td>False</td>\n",
       "      <td>The disease trimethylaminuria , its main symptom is</td>\n",
       "      <td>[fetor]</td>\n",
       "    </tr>\n",
       "    <tr>\n",
       "      <th>5076</th>\n",
       "      <td>appendicitis</td>\n",
       "      <td>None</td>\n",
       "      <td>None</td>\n",
       "      <td>False</td>\n",
       "      <td>The disease appendicitis , its main symptom is</td>\n",
       "      <td>[vomiting]</td>\n",
       "    </tr>\n",
       "    <tr>\n",
       "      <th>5077</th>\n",
       "      <td>encephalopathy due to prosaposin deficiency</td>\n",
       "      <td>None</td>\n",
       "      <td>None</td>\n",
       "      <td>False</td>\n",
       "      <td>The disease encephalopathy due to prosaposin deficiency , its main symptom is</td>\n",
       "      <td>[hepatosplenomegaly]</td>\n",
       "    </tr>\n",
       "  </tbody>\n",
       "</table>\n",
       "<p>732 rows × 6 columns</p>\n",
       "</div>"
      ],
      "text/plain": [
       "                                           entity description    id  \\\n",
       "0                      Legg–Calvé–Perthes disease        None  None   \n",
       "2                        Wiskott-Aldrich syndrome        None  None   \n",
       "4                          Gordon-Holmes syndrome        None  None   \n",
       "10                                erythromelalgia        None  None   \n",
       "13                chronic congestive splenomegaly        None  None   \n",
       "...                                           ...         ...   ...   \n",
       "5067                                      amentia        None  None   \n",
       "5070                    interstitial lung disease        None  None   \n",
       "5075                            trimethylaminuria        None  None   \n",
       "5076                                 appendicitis        None  None   \n",
       "5077  encephalopathy due to prosaposin deficiency        None  None   \n",
       "\n",
       "      red_herring  \\\n",
       "0           False   \n",
       "2           False   \n",
       "4           False   \n",
       "10          False   \n",
       "13          False   \n",
       "...           ...   \n",
       "5067        False   \n",
       "5070        False   \n",
       "5075        False   \n",
       "5076        False   \n",
       "5077        False   \n",
       "\n",
       "                                                                               query  \\\n",
       "0                    The disease Legg–Calvé–Perthes disease was first identified by    \n",
       "2                      The disease Wiskott-Aldrich syndrome was first identified by    \n",
       "4                        The disease Gordon-Holmes syndrome was first identified by    \n",
       "10                              The disease erythromelalgia was first identified by    \n",
       "13              The disease chronic congestive splenomegaly was first identified by    \n",
       "...                                                                              ...   \n",
       "5067                                      The disease amentia , its main symptom is    \n",
       "5070                    The disease interstitial lung disease , its main symptom is    \n",
       "5075                            The disease trimethylaminuria , its main symptom is    \n",
       "5076                                 The disease appendicitis , its main symptom is    \n",
       "5077  The disease encephalopathy due to prosaposin deficiency , its main symptom is    \n",
       "\n",
       "               missing_words  \n",
       "0              [Karel Maydl]  \n",
       "2           [Alfred Wiskott]  \n",
       "4     [Gordon Morgan Holmes]  \n",
       "10     [Silas Weir Mitchell]  \n",
       "13             [Guido Banti]  \n",
       "...                      ...  \n",
       "5067               [amnesia]  \n",
       "5070          [inflammation]  \n",
       "5075                 [fetor]  \n",
       "5076              [vomiting]  \n",
       "5077    [hepatosplenomegaly]  \n",
       "\n",
       "[732 rows x 6 columns]"
      ]
     },
     "execution_count": 30,
     "metadata": {},
     "output_type": "execute_result"
    }
   ],
   "source": [
    "# Rename columns:\n",
    "# template to query\n",
    "# entity_name to entity\n",
    "# missing_attribute to missing_words\n",
    "# New column with \"red_herring\" set to False\n",
    "# New column with description set to None\n",
    "# New column with id set to None\n",
    "# Erase all other columns\n",
    "\n",
    "df_formated = df_formated.rename(columns={'template': 'query', 'entity_name': 'entity', 'missing_attribute': 'missing_words'})\n",
    "df_formated['red_herring'] = False\n",
    "df_formated['description'] = None\n",
    "df_formated['id'] = None\n",
    "df_formated = df_formated[['entity', 'description', 'id', 'red_herring', 'query', 'missing_words']]\n",
    "# turn the strings into a list of a single string for each missing_words\n",
    "df_formated['missing_words'] = df_formated['missing_words'].apply(lambda x: [x])\n",
    "df_formated"
   ]
  },
  {
   "cell_type": "code",
   "execution_count": 31,
   "metadata": {},
   "outputs": [],
   "source": [
    "df_formated.to_csv(filename, index=False)"
   ]
  }
 ],
 "metadata": {
  "kernelspec": {
   "display_name": ".venv",
   "language": "python",
   "name": "python3"
  },
  "language_info": {
   "codemirror_mode": {
    "name": "ipython",
    "version": 3
   },
   "file_extension": ".py",
   "mimetype": "text/x-python",
   "name": "python",
   "nbconvert_exporter": "python",
   "pygments_lexer": "ipython3",
   "version": "3.12.3"
  }
 },
 "nbformat": 4,
 "nbformat_minor": 2
}
